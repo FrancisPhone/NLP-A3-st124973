{
 "cells": [
  {
   "cell_type": "code",
   "execution_count": null,
   "metadata": {
    "colab": {
     "base_uri": "https://localhost:8080/"
    },
    "id": "nULyHSM3zhNT",
    "outputId": "cf2183b5-782d-4b9b-d920-5b79519902bf"
   },
   "outputs": [
    {
     "name": "stdout",
     "output_type": "stream",
     "text": [
      "Looking in indexes: https://pypi.org/simple, https://us-python.pkg.dev/colab-wheels/public/simple/\n",
      "Requirement already satisfied: sentencepiece in /usr/local/lib/python3.7/dist-packages (0.1.96)\n",
      "--2022-06-30 07:29:11--  https://raw.githubusercontent.com/google/sentencepiece/master/data/botchan.txt\n",
      "Resolving raw.githubusercontent.com (raw.githubusercontent.com)... 185.199.110.133, 185.199.111.133, 185.199.109.133, ...\n",
      "Connecting to raw.githubusercontent.com (raw.githubusercontent.com)|185.199.110.133|:443... connected.\n",
      "HTTP request sent, awaiting response... 200 OK\n",
      "Length: 278779 (272K) [text/plain]\n",
      "Saving to: ‘botchan.txt’\n",
      "\n",
      "botchan.txt         100%[===================>] 272.25K  --.-KB/s    in 0.03s   \n",
      "\n",
      "2022-06-30 07:29:11 (8.38 MB/s) - ‘botchan.txt’ saved [278779/278779]\n",
      "\n"
     ]
    }
   ],
   "source": [
    "!pip install sentencepiece\n",
    "# !wget https://raw.githubusercontent.com/google/sentencepiece/master/data/botchan.txt"
   ]
  },
  {
   "cell_type": "code",
   "execution_count": null,
   "metadata": {
    "id": "tlD4JeUTY5_r"
   },
   "outputs": [],
   "source": [
    "import pandas as pd\n",
    "\n",
    "df = pd.read_csv('25_jan_translators_4_weeks_mm_en.csv')\n",
    "df['burmese'].to_pickle('25_jan_translators_4_weeks_mm_en.pkl')"
   ]
  },
  {
   "cell_type": "code",
   "execution_count": null,
   "metadata": {
    "id": "FO4SqtP_ac47"
   },
   "outputs": [],
   "source": [
    "import pickle\n",
    "burmese = pickle.load(open('25_jan_translators_4_weeks_mm_en.pkl', 'rb'))"
   ]
  },
  {
   "cell_type": "code",
   "execution_count": null,
   "metadata": {
    "id": "OcNzD0lDSZVF"
   },
   "outputs": [],
   "source": [
    "with open('25_jan_translators_4_weeks_mm_en.txt', 'w') as f_out:\n",
    "  f_out.write(df['burmese'].to_string())"
   ]
  },
  {
   "cell_type": "code",
   "execution_count": null,
   "metadata": {
    "id": "ELYkrgJQz7gJ"
   },
   "outputs": [],
   "source": [
    "import sentencepiece as sp\n",
    "\n",
    "# sp.SentencePieceTrainer.train('--input=botchan.txt --model_prefix=m --vocab_size=20000')\n",
    "sp.SentencePieceTrainer.train('--input=25_jan_translators_4_weeks_mm_en.txt --model_prefix=m --vocab_size=9000')"
   ]
  },
  {
   "cell_type": "code",
   "execution_count": null,
   "metadata": {
    "colab": {
     "base_uri": "https://localhost:8080/"
    },
    "id": "U_uShmcH05ce",
    "outputId": "70fec43f-9e33-4081-f459-710a92a37cdd"
   },
   "outputs": [
    {
     "data": {
      "text/plain": [
       "True"
      ]
     },
     "execution_count": 49,
     "metadata": {},
     "output_type": "execute_result"
    }
   ],
   "source": [
    "spp = sp.SentencePieceProcessor()\n",
    "spp.Load(\"m.model\")"
   ]
  },
  {
   "cell_type": "code",
   "execution_count": null,
   "metadata": {
    "colab": {
     "base_uri": "https://localhost:8080/"
    },
    "id": "_IxGrTib1K5J",
    "outputId": "db223d1e-8372-4fb1-d6d5-ffb68c50a717"
   },
   "outputs": [
    {
     "data": {
      "text/plain": [
       "['▁ဗိုက်', '▁လည်း', '▁သိပ်', '▁မ', '▁ဆာ', '▁တော့', '▁ဘူး']"
      ]
     },
     "execution_count": 50,
     "metadata": {},
     "output_type": "execute_result"
    }
   ],
   "source": [
    "spp.encode_as_pieces(\"ဗိုက် လည်း သိပ် မ ဆာ တော့ ဘူး\")"
   ]
  },
  {
   "cell_type": "code",
   "execution_count": null,
   "metadata": {
    "colab": {
     "base_uri": "https://localhost:8080/"
    },
    "id": "dkgjavsJd851",
    "outputId": "4c3b219a-791b-48b8-f6df-223280813afe"
   },
   "outputs": [
    {
     "data": {
      "text/plain": [
       "['▁ကလေး', '▁တွေ', '▁က', '▁ဘာ', '▁လို့', '▁ဝမ်းချုပ်', '▁တာ', '▁လဲ']"
      ]
     },
     "execution_count": 51,
     "metadata": {},
     "output_type": "execute_result"
    }
   ],
   "source": [
    "spp.encode_as_pieces(\"ကလေး တွေ က ဘာ လို့ ဝမ်းချုပ် တာ လဲ\")"
   ]
  },
  {
   "cell_type": "code",
   "execution_count": null,
   "metadata": {
    "colab": {
     "base_uri": "https://localhost:8080/"
    },
    "id": "fE0JxG3ojRYj",
    "outputId": "a0c9ec29-12de-4e07-a4cc-7ce481028fe9"
   },
   "outputs": [
    {
     "data": {
      "text/plain": [
       "['▁ကိုဗစ်', '▁ဖြစ်', '▁တုန်း', '▁က', '▁အနံ့', '▁အရသာ', '▁ပျောက်', '▁တာ']"
      ]
     },
     "execution_count": 57,
     "metadata": {},
     "output_type": "execute_result"
    }
   ],
   "source": [
    "spp.encode_as_pieces(\"ကိုဗစ် ဖြစ် တုန်း က အနံ့ အရသာ ပျောက် တာ\")"
   ]
  },
  {
   "cell_type": "code",
   "execution_count": null,
   "metadata": {
    "colab": {
     "base_uri": "https://localhost:8080/"
    },
    "id": "HFu-srJx2CgD",
    "outputId": "47166c2c-f86d-4e72-89a4-44684dbd3ec5"
   },
   "outputs": [
    {
     "data": {
      "text/plain": [
       "[27, 585, 13, 34, 76, 404, 18, 82, 7222, 113, 139, 40, 18, 6, 92]"
      ]
     },
     "execution_count": 52,
     "metadata": {},
     "output_type": "execute_result"
    }
   ],
   "source": [
    "spp.encode_as_ids(\"ကလေး ဝမ်းချုပ် တာ ဘာ ဆေး ကျွေး ရ မလဲ ဒေါက်တာ ကာကွယ်ဆေး ထိုး လို့ ရ ပါ လား\")"
   ]
  },
  {
   "cell_type": "code",
   "execution_count": null,
   "metadata": {
    "colab": {
     "base_uri": "https://localhost:8080/",
     "height": 35
    },
    "id": "BO85v_kbfudj",
    "outputId": "d9982f6c-21e9-42df-aad9-3a5b0d1c9ced"
   },
   "outputs": [
    {
     "data": {
      "application/vnd.google.colaboratory.intrinsic+json": {
       "type": "string"
      },
      "text/plain": [
       "'ကိုဗစ် ဖြစ် တုန်း က အနံ့ အရသာ ပျောက် တာ'"
      ]
     },
     "execution_count": 58,
     "metadata": {},
     "output_type": "execute_result"
    }
   ],
   "source": [
    "spp.decode_pieces(['▁ကိုဗစ်', '▁ဖြစ်', '▁တုန်း', '▁က', '▁အနံ့', '▁အရသာ', '▁ပျောက်', '▁တာ'])"
   ]
  },
  {
   "cell_type": "code",
   "execution_count": null,
   "metadata": {
    "colab": {
     "base_uri": "https://localhost:8080/"
    },
    "id": "akn-G4Qt2Zmz",
    "outputId": "730ff32f-5dad-466f-c451-7f9dde6bfb18"
   },
   "outputs": [
    {
     "data": {
      "text/plain": [
       "[27]"
      ]
     },
     "execution_count": 54,
     "metadata": {},
     "output_type": "execute_result"
    }
   ],
   "source": [
    "spp.piece_to_id(['▁ကလေး'])"
   ]
  },
  {
   "cell_type": "code",
   "execution_count": null,
   "metadata": {
    "colab": {
     "base_uri": "https://localhost:8080/",
     "height": 35
    },
    "id": "wYw37LPE2_6-",
    "outputId": "d6e94f60-31fc-4ffc-aa77-faf19f8325c6"
   },
   "outputs": [
    {
     "data": {
      "application/vnd.google.colaboratory.intrinsic+json": {
       "type": "string"
      },
      "text/plain": [
       "'နိုင်'"
      ]
     },
     "execution_count": 55,
     "metadata": {},
     "output_type": "execute_result"
    }
   ],
   "source": [
    "spp.decode_ids([23])"
   ]
  },
  {
   "cell_type": "code",
   "execution_count": null,
   "metadata": {
    "colab": {
     "base_uri": "https://localhost:8080/"
    },
    "id": "XG2MDqxk3pn0",
    "outputId": "eeb1fac7-a406-43b7-a39d-07a589216291"
   },
   "outputs": [
    {
     "data": {
      "text/plain": [
       "2000"
      ]
     },
     "execution_count": 41,
     "metadata": {},
     "output_type": "execute_result"
    }
   ],
   "source": [
    "spp.GetPieceSize()"
   ]
  },
  {
   "cell_type": "code",
   "execution_count": null,
   "metadata": {
    "colab": {
     "base_uri": "https://localhost:8080/",
     "height": 35
    },
    "id": "SNHbDIxO4Xht",
    "outputId": "6d33e767-3a92-4f8b-9ae8-9e44a8295022"
   },
   "outputs": [
    {
     "data": {
      "application/vnd.google.colaboratory.intrinsic+json": {
       "type": "string"
      },
      "text/plain": [
       "'▁W'"
      ]
     },
     "execution_count": 90,
     "metadata": {},
     "output_type": "execute_result"
    }
   ],
   "source": [
    "spp.id_to_piece(715)"
   ]
  },
  {
   "cell_type": "code",
   "execution_count": null,
   "metadata": {
    "colab": {
     "base_uri": "https://localhost:8080/",
     "height": 35
    },
    "id": "IYN8dUGI4enN",
    "outputId": "e00eb272-e607-49c6-cb89-1ced8c682919"
   },
   "outputs": [
    {
     "data": {
      "application/vnd.google.colaboratory.intrinsic+json": {
       "type": "string"
      },
      "text/plain": [
       "'llow'"
      ]
     },
     "execution_count": 91,
     "metadata": {},
     "output_type": "execute_result"
    }
   ],
   "source": [
    "spp.id_to_piece(1367)"
   ]
  },
  {
   "cell_type": "code",
   "execution_count": null,
   "metadata": {
    "colab": {
     "base_uri": "https://localhost:8080/"
    },
    "id": "thpTVe5J6sEQ",
    "outputId": "e4ab5744-89f5-4654-da3f-3dec42c4d911"
   },
   "outputs": [
    {
     "data": {
      "text/plain": [
       "0"
      ]
     },
     "execution_count": 42,
     "metadata": {},
     "output_type": "execute_result"
    }
   ],
   "source": [
    "spp.piece_to_id('__MUST_BE_UNKNOWN__')"
   ]
  },
  {
   "cell_type": "code",
   "execution_count": null,
   "metadata": {
    "colab": {
     "base_uri": "https://localhost:8080/"
    },
    "id": "08V-tGlh6xHG",
    "outputId": "9ab0acdb-154f-4ddc-e53f-998c5dc9e5ff"
   },
   "outputs": [
    {
     "data": {
      "text/plain": [
       "['<unk>']"
      ]
     },
     "execution_count": 93,
     "metadata": {},
     "output_type": "execute_result"
    }
   ],
   "source": [
    "spp.id_to_piece([0])"
   ]
  },
  {
   "cell_type": "code",
   "execution_count": null,
   "metadata": {
    "colab": {
     "base_uri": "https://localhost:8080/"
    },
    "id": "HqIRhl577AAe",
    "outputId": "fe5b2226-6347-4e15-b8e2-09863b8df748"
   },
   "outputs": [
    {
     "data": {
      "text/plain": [
       "['<s>']"
      ]
     },
     "execution_count": 94,
     "metadata": {},
     "output_type": "execute_result"
    }
   ],
   "source": [
    "spp.id_to_piece([1])"
   ]
  },
  {
   "cell_type": "code",
   "execution_count": null,
   "metadata": {
    "colab": {
     "base_uri": "https://localhost:8080/"
    },
    "id": "234nJ8s47Ebh",
    "outputId": "e128cba6-2e31-4651-c2c6-24d46bc0eeff"
   },
   "outputs": [
    {
     "data": {
      "text/plain": [
       "['</s>']"
      ]
     },
     "execution_count": 95,
     "metadata": {},
     "output_type": "execute_result"
    }
   ],
   "source": [
    "spp.id_to_piece([2])"
   ]
  },
  {
   "cell_type": "code",
   "execution_count": null,
   "metadata": {
    "id": "rbi8Eony-6-8"
   },
   "outputs": [],
   "source": [
    "sp.SentencePieceTrainer.train('--input=botchan.txt --model_prefix=m_user --user_defined_symbols=<sep>,<cls> --vocab_size=2000')"
   ]
  },
  {
   "cell_type": "code",
   "execution_count": null,
   "metadata": {
    "colab": {
     "base_uri": "https://localhost:8080/"
    },
    "id": "R3PQkezn_ZRF",
    "outputId": "20011502-2c3f-4a34-a64a-90802b0157c4"
   },
   "outputs": [
    {
     "data": {
      "text/plain": [
       "True"
      ]
     },
     "execution_count": 97,
     "metadata": {},
     "output_type": "execute_result"
    }
   ],
   "source": [
    "sp_user = sp.SentencePieceProcessor()\n",
    "sp_user.load('m_user.model')"
   ]
  },
  {
   "cell_type": "code",
   "execution_count": null,
   "metadata": {
    "colab": {
     "base_uri": "https://localhost:8080/"
    },
    "id": "96PI0iSe_gXB",
    "outputId": "7a1aeff4-7475-4151-c30f-581ba43f7555"
   },
   "outputs": [
    {
     "name": "stdout",
     "output_type": "stream",
     "text": [
      "['▁this', '▁is', '▁a', '▁t', 'est', '<sep>', '▁he', 'll', 'o', '▁world', '<cls>']\n"
     ]
    }
   ],
   "source": [
    "print(sp_user.encode_as_pieces('this is a test<sep> hello world<cls>'))"
   ]
  },
  {
   "cell_type": "code",
   "execution_count": null,
   "metadata": {
    "colab": {
     "base_uri": "https://localhost:8080/"
    },
    "id": "ESqHQnJG_lJi",
    "outputId": "8fb86e55-8824-4de0-e3eb-e327e3b62a3d"
   },
   "outputs": [
    {
     "name": "stdout",
     "output_type": "stream",
     "text": [
      "[47, 33, 11, 377, 588, 3, 30, 100, 40, 1040, 4]\n"
     ]
    }
   ],
   "source": [
    "print(sp_user.encode_as_ids('this is a test<sep> hello world<cls>'))"
   ]
  },
  {
   "cell_type": "code",
   "execution_count": null,
   "metadata": {
    "colab": {
     "base_uri": "https://localhost:8080/"
    },
    "id": "-u0eeuM3_pLh",
    "outputId": "dd1d3910-82cc-4c1a-c8b9-6b0cfc45739a"
   },
   "outputs": [
    {
     "data": {
      "text/plain": [
       "['▁this',\n",
       " '▁is',\n",
       " '▁a',\n",
       " '▁t',\n",
       " 'est',\n",
       " '<sep>',\n",
       " '▁he',\n",
       " 'll',\n",
       " 'o',\n",
       " '▁world',\n",
       " '<cls>']"
      ]
     },
     "execution_count": 100,
     "metadata": {},
     "output_type": "execute_result"
    }
   ],
   "source": [
    "sp_user.id_to_piece([47, 33, 11, 377, 588, 3, 30, 100, 40, 1040, 4])"
   ]
  },
  {
   "cell_type": "code",
   "execution_count": null,
   "metadata": {
    "id": "3u2C8DQr_0uK"
   },
   "outputs": [],
   "source": [
    "sp.SentencePieceTrainer.train('--input=botchan.txt --model_prefix=m_ctrl --control_symbols=<sep>,<cls> --vocab_size=2000')"
   ]
  },
  {
   "cell_type": "code",
   "execution_count": null,
   "metadata": {
    "colab": {
     "base_uri": "https://localhost:8080/"
    },
    "id": "UzBO_jLoAmXe",
    "outputId": "4227c1c7-9787-4aa5-cb93-992f0cfaf673"
   },
   "outputs": [
    {
     "name": "stdout",
     "output_type": "stream",
     "text": [
      "['▁this', '▁is', '▁a', '▁t', 'est', '<', 'se', 'p', '>', '▁he', 'll', 'o', '▁world', '<', 'c', 'l', 's', '>']\n"
     ]
    }
   ],
   "source": [
    "sp_ctrl = sp.SentencePieceProcessor()\n",
    "sp_ctrl.load('m_ctrl.model')\n",
    "\n",
    "print(sp_ctrl.encode_as_pieces('this is a test<sep> hello world<cls>'))"
   ]
  },
  {
   "cell_type": "code",
   "execution_count": null,
   "metadata": {
    "colab": {
     "base_uri": "https://localhost:8080/"
    },
    "id": "G9zeNvbOBexT",
    "outputId": "10e22c0a-ae36-427d-b63f-fc45ba4a97e2"
   },
   "outputs": [
    {
     "data": {
      "text/plain": [
       "[47, 33, 11, 377, 588, 0, 174, 61, 0, 30, 100, 40, 1040, 0, 75, 59, 9, 0]"
      ]
     },
     "execution_count": 103,
     "metadata": {},
     "output_type": "execute_result"
    }
   ],
   "source": [
    "sp_ctrl.piece_to_id(['▁this', '▁is', '▁a', '▁t', 'est', '<', 'se', 'p', '>', '▁he', 'll', 'o', '▁world', '<', 'c', 'l', 's', '>']\n",
    ")"
   ]
  },
  {
   "cell_type": "code",
   "execution_count": null,
   "metadata": {
    "colab": {
     "base_uri": "https://localhost:8080/"
    },
    "id": "G2cAHPPRCD0C",
    "outputId": "6269df65-81db-445c-80d4-ed97b6b1398f"
   },
   "outputs": [
    {
     "data": {
      "text/plain": [
       "['▁world']"
      ]
     },
     "execution_count": 104,
     "metadata": {},
     "output_type": "execute_result"
    }
   ],
   "source": [
    "sp_ctrl.id_to_piece([1040])"
   ]
  },
  {
   "cell_type": "code",
   "execution_count": null,
   "metadata": {
    "colab": {
     "base_uri": "https://localhost:8080/"
    },
    "id": "yRuAMx5QDtLP",
    "outputId": "4926edb4-1d8e-4d19-b78b-6ffd4825c104"
   },
   "outputs": [
    {
     "data": {
      "text/plain": [
       "['c']"
      ]
     },
     "execution_count": 110,
     "metadata": {},
     "output_type": "execute_result"
    }
   ],
   "source": [
    "sp_ctrl.id_to_piece([75])"
   ]
  },
  {
   "cell_type": "code",
   "execution_count": null,
   "metadata": {
    "id": "l_HTRVMgGQoy"
   },
   "outputs": [],
   "source": [
    "sp.SentencePieceTrainer.train('--input=botchan.txt --model_prefix=m --vocab_size=2000')"
   ]
  },
  {
   "cell_type": "code",
   "execution_count": null,
   "metadata": {
    "colab": {
     "base_uri": "https://localhost:8080/"
    },
    "id": "umNFknptHuRB",
    "outputId": "743e21ca-2c52-4ff6-d29c-041beb4ee2a8"
   },
   "outputs": [
    {
     "name": "stdout",
     "output_type": "stream",
     "text": [
      "['▁', 'he', 'll', 'o', '▁world']\n",
      "['▁he', 'll', 'o', '▁w', 'o', 'r', 'l', 'd']\n",
      "['▁', 'h', 'e', 'l', 'l', 'o', '▁', 'w', 'or', 'l', 'd']\n",
      "['▁he', 'l', 'l', 'o', '▁w', 'or', 'l', 'd']\n",
      "['▁he', 'll', 'o', '▁world']\n",
      "['▁', 'h', 'e', 'll', 'o', '▁world']\n",
      "['▁he', 'l', 'l', 'o', '▁', 'w', 'o', 'r', 'l', 'd']\n",
      "['▁', 'h', 'e', 'll', 'o', '▁world']\n",
      "['▁he', 'll', 'o', '▁', 'wo', 'r', 'l', 'd']\n",
      "['▁he', 'll', 'o', '▁', 'w', 'or', 'l', 'd']\n",
      "['▁he', 'll', 'o', '▁', 'w', 'or', 'l', 'd']\n",
      "['▁', 'he', 'l', 'l', 'o', '▁wor', 'l', 'd']\n",
      "['▁', 'h', 'el', 'l', 'o', '▁world']\n",
      "['▁he', 'l', 'l', 'o', '▁world']\n",
      "['▁', 'he', 'll', 'o', '▁world']\n",
      "['▁he', 'l', 'l', 'o', '▁world']\n",
      "['▁he', 'll', 'o', '▁world']\n",
      "['▁he', 'l', 'l', 'o', '▁world']\n",
      "['▁he', 'll', 'o', '▁w', 'o', 'r', 'l', 'd']\n",
      "['▁', 'he', 'll', 'o', '▁', 'w', 'or', 'l', 'd']\n"
     ]
    }
   ],
   "source": [
    "for n in range(20):\n",
    "  print(spp.sample_encode_as_pieces('hello world', -1, 0.1))"
   ]
  }
 ],
 "metadata": {
  "colab": {
   "provenance": []
  },
  "kernelspec": {
   "display_name": "torch_kernel",
   "language": "python",
   "name": "torch"
  },
  "language_info": {
   "codemirror_mode": {
    "name": "ipython",
    "version": 3
   },
   "file_extension": ".py",
   "mimetype": "text/x-python",
   "name": "python",
   "nbconvert_exporter": "python",
   "pygments_lexer": "ipython3",
   "version": "3.11.0"
  }
 },
 "nbformat": 4,
 "nbformat_minor": 1
}
